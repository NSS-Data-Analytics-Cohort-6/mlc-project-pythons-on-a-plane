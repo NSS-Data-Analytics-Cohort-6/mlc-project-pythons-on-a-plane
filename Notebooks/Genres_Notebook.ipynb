{
 "cells": [
  {
   "cell_type": "code",
   "execution_count": null,
   "id": "5bb85fb5",
   "metadata": {},
   "outputs": [],
   "source": [
    "import pandas as pd\n",
    "import json\n",
    "import numpy as np\n",
    "import matplotlib.pyplot as plt\n",
    "import seaborn as sns\n",
    "\n",
    "from matplotlib import rcParams\n",
    "\n",
    "\n",
    "%matplotlib inline\n",
    "\n",
    "# Opening JSON file\n",
    "g = open('../data/genres.json')\n",
    " \n",
    "# returns JSON object as a dictionary\n",
    "genre_json = json.load(g)\n",
    "\n",
    "# since the value lists have varying lengths, we have to use a lambda function to iterate over the keys and values as a series\n",
    "genres = pd.DataFrame(dict([(k,pd.Series(v)) for k,v in genre_json.items()]))\n",
    "\n",
    "genres = genres.T\n",
    "\n",
    "#genres = pd.melt(genres)\n",
    "\n",
    "#genres = genres.reset_index(drop=True)\n",
    "#genres.columns = ['artist', 'genre']\n",
    "\n",
    "genres.head()"
   ]
  },
  {
   "cell_type": "code",
   "execution_count": null,
   "id": "55c6548b",
   "metadata": {},
   "outputs": [],
   "source": [
    "genres_fix = genres[0].str.split(',', expand = True)\n",
    "genres_fix.head()"
   ]
  },
  {
   "cell_type": "code",
   "execution_count": null,
   "id": "65f5aaec",
   "metadata": {},
   "outputs": [],
   "source": [
    "genres = genres.drop(0, axis = 1)\n",
    "genres.head()"
   ]
  },
  {
   "cell_type": "code",
   "execution_count": null,
   "id": "14b51e19",
   "metadata": {},
   "outputs": [],
   "source": [
    "genres_final = pd.merge(genres, genres_fix, left_index = True, right_index = True, how = 'outer')\n",
    "pd.set_option('max_columns', None)\n",
    "genres_final.head()"
   ]
  },
  {
   "cell_type": "code",
   "execution_count": null,
   "id": "f4630bf8",
   "metadata": {},
   "outputs": [],
   "source": [
    "genres_final['1_y'].head()"
   ]
  },
  {
   "cell_type": "code",
   "execution_count": null,
   "id": "6c6d1af9",
   "metadata": {},
   "outputs": [],
   "source": [
    "genres_finalx2 = genres_final.T\n",
    "genres_finalx2.head()"
   ]
  },
  {
   "cell_type": "code",
   "execution_count": null,
   "id": "913e3572",
   "metadata": {},
   "outputs": [],
   "source": [
    "genres_melt = pd.melt(genres_finalx2)\n",
    "genres_melt.head(60)"
   ]
  },
  {
   "cell_type": "code",
   "execution_count": null,
   "id": "580fed03",
   "metadata": {},
   "outputs": [],
   "source": [
    "genres_melt = genres_melt.dropna()"
   ]
  },
  {
   "cell_type": "code",
   "execution_count": null,
   "id": "7bc6f6de",
   "metadata": {},
   "outputs": [],
   "source": [
    "genres_melt.drop_duplicates()"
   ]
  },
  {
   "cell_type": "code",
   "execution_count": null,
   "id": "c3181267",
   "metadata": {},
   "outputs": [],
   "source": [
    "genres_melt.columns = ['Recording Artist', 'Genre']\n",
    "genres_melt.head(30)"
   ]
  },
  {
   "cell_type": "code",
   "execution_count": null,
   "id": "de266ae6",
   "metadata": {},
   "outputs": [],
   "source": [
    "#Making genre column all capps\n",
    "\n",
    "genres_melt['Genre'] = genres_melt['Genre'].str.upper()\n",
    "genres_melt.head(60)"
   ]
  },
  {
   "cell_type": "code",
   "execution_count": null,
   "id": "85744f0f",
   "metadata": {},
   "outputs": [],
   "source": [
    "#Exploring dataset\n",
    "genres_melt.tail(20)"
   ]
  },
  {
   "cell_type": "code",
   "execution_count": null,
   "id": "ccd8b876",
   "metadata": {},
   "outputs": [],
   "source": [
    "genres_melt.Genre.value_counts()"
   ]
  },
  {
   "cell_type": "code",
   "execution_count": null,
   "id": "f2bc33fe",
   "metadata": {},
   "outputs": [],
   "source": [
    "genres_melt['Genre'].str.strip()"
   ]
  },
  {
   "cell_type": "code",
   "execution_count": null,
   "id": "3377b559",
   "metadata": {},
   "outputs": [],
   "source": [
    "mlc = pd.read_csv('../data/MLC_Data_Sample.csv')\n",
    "mlc_df = pd.DataFrame(mlc)\n",
    "mlc_df.head()"
   ]
  },
  {
   "cell_type": "code",
   "execution_count": null,
   "id": "7c8171c5",
   "metadata": {},
   "outputs": [],
   "source": [
    "mlc_df.info()"
   ]
  },
  {
   "cell_type": "code",
   "execution_count": null,
   "id": "629e8698",
   "metadata": {
    "scrolled": true
   },
   "outputs": [],
   "source": [
    "mlc_df = mlc_df.drop_duplicates()\n",
    "mlc_df.info()"
   ]
  },
  {
   "cell_type": "code",
   "execution_count": null,
   "id": "339fec8e",
   "metadata": {},
   "outputs": [],
   "source": [
    "#drop NA for MLC DF\n",
    "mlc_df = mlc_df.dropna()"
   ]
  },
  {
   "cell_type": "code",
   "execution_count": null,
   "id": "1e5e5b3c",
   "metadata": {},
   "outputs": [],
   "source": [
    "genres_df = pd.DataFrame(genres_melt)"
   ]
  },
  {
   "cell_type": "code",
   "execution_count": null,
   "id": "a68c4073",
   "metadata": {
    "scrolled": true
   },
   "outputs": [],
   "source": [
    "mlc_and_genres_df = pd.merge(genres_df, mlc_df, on=[\"Recording Artist\"], how='left')\n",
    "mlc_and_genres_df.head()"
   ]
  },
  {
   "cell_type": "code",
   "execution_count": null,
   "id": "4015f09d",
   "metadata": {},
   "outputs": [],
   "source": [
    "mlc_and_genres_df.info()"
   ]
  },
  {
   "cell_type": "code",
   "execution_count": null,
   "id": "103495f8",
   "metadata": {},
   "outputs": [],
   "source": [
    "mlc_and_genres_df.drop_duplicates()"
   ]
  },
  {
   "cell_type": "code",
   "execution_count": null,
   "id": "697b1bd9",
   "metadata": {},
   "outputs": [],
   "source": [
    "mlc_and_genres_df.dropna()"
   ]
  },
  {
   "cell_type": "code",
   "execution_count": null,
   "id": "1d1ccc63",
   "metadata": {},
   "outputs": [],
   "source": [
    "royalties = pd.read_csv('../data/royalties_per_platform.csv')\n",
    "royalties.head(10)                        "
   ]
  },
  {
   "cell_type": "code",
   "execution_count": null,
   "id": "bf67e5dd",
   "metadata": {},
   "outputs": [],
   "source": [
    "royalties = royalties.drop(columns=['source'])\n",
    "royalties.head(10)"
   ]
  },
  {
   "cell_type": "code",
   "execution_count": null,
   "id": "231947a7",
   "metadata": {
    "scrolled": true
   },
   "outputs": [],
   "source": [
    "royalties_df = pd.DataFrame(royalties)\n",
    "royalties_df.head(10)"
   ]
  },
  {
   "cell_type": "code",
   "execution_count": null,
   "id": "7183d8d1",
   "metadata": {},
   "outputs": [],
   "source": [
    "royalties_df.rename(columns = {'platform':'Streaming Platform (DSP)', 'royalties_per_stream':'Royalties per Stream'}, inplace = True)"
   ]
  },
  {
   "cell_type": "code",
   "execution_count": null,
   "id": "079c1c00",
   "metadata": {},
   "outputs": [],
   "source": [
    "royalties_df.head()"
   ]
  },
  {
   "cell_type": "code",
   "execution_count": null,
   "id": "ef6f3a66",
   "metadata": {},
   "outputs": [],
   "source": [
    "mlcGenresRoyalties_df = pd.merge(mlc_and_genres_df, royalties_df, on=['Streaming Platform (DSP)'], how='left')\n"
   ]
  },
  {
   "cell_type": "code",
   "execution_count": null,
   "id": "992611fe",
   "metadata": {},
   "outputs": [],
   "source": [
    "mlcGenresRoyalties_df.head()"
   ]
  },
  {
   "cell_type": "code",
   "execution_count": null,
   "id": "dcf6a3ac",
   "metadata": {},
   "outputs": [],
   "source": [
    "mlcGenresRoyalties_df[\"Streams\"] = mlcGenresRoyalties_df[\"Streams\"].str.replace(\",\",\"\")\n",
    "mlcGenresRoyalties_df.head()"
   ]
  },
  {
   "cell_type": "code",
   "execution_count": null,
   "id": "8c7b5bd7",
   "metadata": {},
   "outputs": [],
   "source": [
    "duplicates = mlcGenresRoyalties_df[mlcGenresRoyalties_df.duplicated()]\n",
    "duplicates"
   ]
  },
  {
   "cell_type": "code",
   "execution_count": null,
   "id": "817ef09e",
   "metadata": {},
   "outputs": [],
   "source": [
    "mlcGenresRoyalties_df = mlcGenresRoyalties_df.drop_duplicates()"
   ]
  },
  {
   "cell_type": "code",
   "execution_count": null,
   "id": "0b5e588a",
   "metadata": {},
   "outputs": [],
   "source": [
    "new_duplicates = mlcGenresRoyalties_df[mlcGenresRoyalties_df.duplicated()]\n",
    "new_duplicates"
   ]
  },
  {
   "cell_type": "code",
   "execution_count": null,
   "id": "132d744f",
   "metadata": {},
   "outputs": [],
   "source": [
    "nulls = mlcGenresRoyalties_df.isnull().sum()\n",
    "nulls"
   ]
  },
  {
   "cell_type": "code",
   "execution_count": null,
   "id": "df5e6d84",
   "metadata": {},
   "outputs": [],
   "source": [
    "mlcGenresRoyalties_df = mlcGenresRoyalties_df.dropna()\n",
    "new_nulls = mlcGenresRoyalties_df.isnull().sum()\n",
    "new_nulls"
   ]
  },
  {
   "cell_type": "code",
   "execution_count": null,
   "id": "2868d878",
   "metadata": {},
   "outputs": [],
   "source": [
    "mlcGenresRoyalties_df['Streams'] = pd.to_numeric(mlcGenresRoyalties_df['Streams'])"
   ]
  },
  {
   "cell_type": "code",
   "execution_count": null,
   "id": "3726697f",
   "metadata": {},
   "outputs": [],
   "source": [
    "mlcGenresRoyalties_df.info()"
   ]
  },
  {
   "cell_type": "code",
   "execution_count": null,
   "id": "1792225e",
   "metadata": {},
   "outputs": [],
   "source": [
    "mlcGenresRoyalties_df.head()"
   ]
  },
  {
   "cell_type": "code",
   "execution_count": null,
   "id": "44607b09",
   "metadata": {},
   "outputs": [],
   "source": [
    "mlcGenresRoyalties_df['Royalties per Stream'] = mlcGenresRoyalties_df['Royalties per Stream'].str.replace(\"$\",\"\")\n",
    "mlcGenresRoyalties_df['Royalties per Stream'] = pd.to_numeric(mlcGenresRoyalties_df['Royalties per Stream'])"
   ]
  },
  {
   "cell_type": "code",
   "execution_count": null,
   "id": "2d6e5985",
   "metadata": {},
   "outputs": [],
   "source": [
    "mlcGenresRoyalties_df.info()"
   ]
  },
  {
   "cell_type": "code",
   "execution_count": null,
   "id": "02227599",
   "metadata": {},
   "outputs": [],
   "source": [
    "#mlcGenresRoyalties_df = mlcGenresRoyalties_df.head(10)\n",
    "commonGenres = mlcGenresRoyalties_df['Genre'].value_counts()\n",
    "commonGenres_df = pd.DataFrame(commonGenres).reset_index()\n",
    "commonGenres2 = commonGenres_df.head(10)\n",
    "commonGenres2"
   ]
  },
  {
   "cell_type": "code",
   "execution_count": null,
   "id": "09aa3555",
   "metadata": {},
   "outputs": [],
   "source": [
    "rcParams['figure.figsize'] = 15,8\n",
    "sns.set(font_scale = 2)\n",
    "commonGenres2 = sns.barplot(x=\"Genre\", y=\"index\", data=commonGenres2,\n",
    "                 palette=\"YlGnBu_r\")\n",
    "commonGenres2.set(ylabel= None)\n",
    "commonGenres2.set(xlabel=\"Genre Count\")\n",
    "commonGenres2.set_title('Ten Most Common Genres in MLC Matching Sample');\n",
    "\n",
    "\n"
   ]
  },
  {
   "cell_type": "code",
   "execution_count": null,
   "id": "be6604c7",
   "metadata": {},
   "outputs": [],
   "source": [
    "mlcGenresRoyalties_df.info()"
   ]
  },
  {
   "cell_type": "code",
   "execution_count": null,
   "id": "3edad860",
   "metadata": {},
   "outputs": [],
   "source": [
    "#Number of Streams per Genre\n",
    "#avgStreamsPerGenre = mlcGenresRoyalties_df.groupby('Genre')[['Streams']].mean()\n",
    "#avgStreamsPerGenreDesc = avgStreamsPerGenre.sort_values(['Streams'], ascending=False)\n",
    "#avgStreamsPerGenreDesc\n",
    "\n",
    "\n",
    "genre_streams_avg = mlcGenresRoyalties_df.groupby('Genre', as_index=False)[['Streams']].mean().sort_values(['Streams'],ascending=False)\n",
    "genre_streams_avg = genre_streams_avg.head(10)\n",
    "genre_streams_avg\n"
   ]
  },
  {
   "cell_type": "code",
   "execution_count": null,
   "id": "9534252d",
   "metadata": {},
   "outputs": [],
   "source": [
    "rcParams['figure.figsize'] = 15,8\n",
    "sns.set(font_scale = 2)\n",
    "genreStreamsAvgChart = sns.barplot(x=\"Streams\", y=\"Genre\", data=genre_streams_avg,\n",
    "                 palette=\"YlGnBu_r\")\n",
    "genreStreamsAvgChart.set(ylabel=None)\n",
    "genreStreamsAvgChart.set_title('Top 10 Average Streams Per Genre');\n",
    "\n"
   ]
  },
  {
   "cell_type": "code",
   "execution_count": null,
   "id": "3e6b553d",
   "metadata": {},
   "outputs": [],
   "source": []
  }
 ],
 "metadata": {
  "kernelspec": {
   "display_name": "Python 3 (ipykernel)",
   "language": "python",
   "name": "python3"
  },
  "language_info": {
   "codemirror_mode": {
    "name": "ipython",
    "version": 3
   },
   "file_extension": ".py",
   "mimetype": "text/x-python",
   "name": "python",
   "nbconvert_exporter": "python",
   "pygments_lexer": "ipython3",
   "version": "3.9.7"
  }
 },
 "nbformat": 4,
 "nbformat_minor": 5
}
