{
 "cells": [
  {
   "cell_type": "code",
   "execution_count": 1,
   "id": "0f0ca758",
   "metadata": {},
   "outputs": [],
   "source": [
    "import pandas as pd\n",
    "import numpy as np\n",
    "import matplotlib.pyplot as plt"
   ]
  },
  {
   "cell_type": "code",
   "execution_count": 2,
   "id": "c7be8177",
   "metadata": {},
   "outputs": [],
   "source": [
    "%matplotlib inline"
   ]
  },
  {
   "cell_type": "code",
   "execution_count": 3,
   "id": "b9faffb0",
   "metadata": {},
   "outputs": [],
   "source": [
    "mlc_df=pd.read_csv(\"C:/Users/iulia/Documents/NSS/projects/mlc-project-pythons-on-a-plane/data/MLC_data.csv\")"
   ]
  },
  {
   "cell_type": "code",
   "execution_count": 4,
   "id": "4cb97e51",
   "metadata": {},
   "outputs": [
    {
     "name": "stdout",
     "output_type": "stream",
     "text": [
      "<class 'pandas.core.frame.DataFrame'>\n",
      "RangeIndex: 100000 entries, 0 to 99999\n",
      "Data columns (total 13 columns):\n",
      " #   Column                                     Non-Null Count   Dtype  \n",
      "---  ------                                     --------------   -----  \n",
      " 0    ISRC                                      98240 non-null   object \n",
      " 1   Country Code                               98303 non-null   object \n",
      " 2   Registrant Code                            98303 non-null   object \n",
      " 3   Year of Reference                          98239 non-null   float64\n",
      " 4   Usage Period                               91898 non-null   object \n",
      " 5   Streaming Platform (DSP)                   96001 non-null   object \n",
      " 6   Streams                                    100000 non-null  int64  \n",
      " 7   Recording Artist                           100000 non-null  object \n",
      " 8   Recording Label                            98992 non-null   object \n",
      " 9   Recording Title                            100000 non-null  object \n",
      " 10  Release Title                              99931 non-null   object \n",
      " 11  Recording Duration (Seconds)               100000 non-null  int64  \n",
      " 12  Songwriter's Listed (1 = \"Yes\", 0 = \"No\")  100000 non-null  int64  \n",
      "dtypes: float64(1), int64(3), object(9)\n",
      "memory usage: 9.9+ MB\n"
     ]
    }
   ],
   "source": [
    "mlc_df.info()"
   ]
  },
  {
   "cell_type": "code",
   "execution_count": 5,
   "id": "4af07879",
   "metadata": {},
   "outputs": [
    {
     "data": {
      "text/plain": [
       " ISRC                                        1760\n",
       "Country Code                                 1697\n",
       "Registrant Code                              1697\n",
       "Year of Reference                            1761\n",
       "Usage Period                                 8102\n",
       "Streaming Platform (DSP)                     3999\n",
       "Streams                                         0\n",
       "Recording Artist                                0\n",
       "Recording Label                              1008\n",
       "Recording Title                                 0\n",
       "Release Title                                  69\n",
       "Recording Duration (Seconds)                    0\n",
       "Songwriter's Listed (1 = \"Yes\", 0 = \"No\")       0\n",
       "dtype: int64"
      ]
     },
     "execution_count": 5,
     "metadata": {},
     "output_type": "execute_result"
    }
   ],
   "source": [
    "mlc_df.isnull().sum()"
   ]
  },
  {
   "cell_type": "code",
   "execution_count": 6,
   "id": "8eb7f4d8",
   "metadata": {},
   "outputs": [
    {
     "data": {
      "text/html": [
       "<div>\n",
       "<style scoped>\n",
       "    .dataframe tbody tr th:only-of-type {\n",
       "        vertical-align: middle;\n",
       "    }\n",
       "\n",
       "    .dataframe tbody tr th {\n",
       "        vertical-align: top;\n",
       "    }\n",
       "\n",
       "    .dataframe thead th {\n",
       "        text-align: right;\n",
       "    }\n",
       "</style>\n",
       "<table border=\"1\" class=\"dataframe\">\n",
       "  <thead>\n",
       "    <tr style=\"text-align: right;\">\n",
       "      <th></th>\n",
       "      <th>ISRC</th>\n",
       "      <th>Country Code</th>\n",
       "      <th>Registrant Code</th>\n",
       "      <th>Year of Reference</th>\n",
       "      <th>Usage Period</th>\n",
       "      <th>Streaming Platform (DSP)</th>\n",
       "      <th>Streams</th>\n",
       "      <th>Recording Artist</th>\n",
       "      <th>Recording Label</th>\n",
       "      <th>Recording Title</th>\n",
       "      <th>Release Title</th>\n",
       "      <th>Recording Duration (Seconds)</th>\n",
       "      <th>Songwriter's Listed (1 = \"Yes\", 0 = \"No\")</th>\n",
       "    </tr>\n",
       "  </thead>\n",
       "  <tbody>\n",
       "    <tr>\n",
       "      <th>0</th>\n",
       "      <td>1.95E+11</td>\n",
       "      <td>19</td>\n",
       "      <td>492</td>\n",
       "      <td>33.0</td>\n",
       "      <td>1/1/2021</td>\n",
       "      <td>Spotify</td>\n",
       "      <td>13620</td>\n",
       "      <td>MARINA</td>\n",
       "      <td>Atlantic Records</td>\n",
       "      <td>Man's World</td>\n",
       "      <td>Man's World (MUNA Remix)</td>\n",
       "      <td>209</td>\n",
       "      <td>1</td>\n",
       "    </tr>\n",
       "    <tr>\n",
       "      <th>1</th>\n",
       "      <td>1.96E+11</td>\n",
       "      <td>19</td>\n",
       "      <td>575</td>\n",
       "      <td>70.0</td>\n",
       "      <td>5/1/2021</td>\n",
       "      <td>Pandora</td>\n",
       "      <td>12160</td>\n",
       "      <td>Chris Webby</td>\n",
       "      <td>EightyHD</td>\n",
       "      <td>Quarantine (Freeverse)</td>\n",
       "      <td>Quarantine (Freeverse)</td>\n",
       "      <td>160</td>\n",
       "      <td>1</td>\n",
       "    </tr>\n",
       "    <tr>\n",
       "      <th>2</th>\n",
       "      <td>8.60E+11</td>\n",
       "      <td>85</td>\n",
       "      <td>971</td>\n",
       "      <td>57.0</td>\n",
       "      <td>4/1/2021</td>\n",
       "      <td>Amazon</td>\n",
       "      <td>2451</td>\n",
       "      <td>Parry Gripp</td>\n",
       "      <td>Parry Gripp</td>\n",
       "      <td>The Girl at the Videogame Store</td>\n",
       "      <td>Parry Gripp Mega-Party (2008 - 2012)</td>\n",
       "      <td>185</td>\n",
       "      <td>0</td>\n",
       "    </tr>\n",
       "    <tr>\n",
       "      <th>3</th>\n",
       "      <td>8.60E+11</td>\n",
       "      <td>85</td>\n",
       "      <td>971</td>\n",
       "      <td>57.0</td>\n",
       "      <td>4/1/2021</td>\n",
       "      <td>Amazon</td>\n",
       "      <td>2451</td>\n",
       "      <td>Parry Gripp</td>\n",
       "      <td>Parry Gripp</td>\n",
       "      <td>The Girl at the Videogame Store</td>\n",
       "      <td>Parry Gripp Mega-Party (2008 - 2012)</td>\n",
       "      <td>185</td>\n",
       "      <td>0</td>\n",
       "    </tr>\n",
       "    <tr>\n",
       "      <th>4</th>\n",
       "      <td>8.60E+11</td>\n",
       "      <td>85</td>\n",
       "      <td>971</td>\n",
       "      <td>67.0</td>\n",
       "      <td>3/1/2021</td>\n",
       "      <td>Amazon</td>\n",
       "      <td>3844</td>\n",
       "      <td>Bear McCreary</td>\n",
       "      <td>Madison Gate Records, Inc.</td>\n",
       "      <td>The Marriage Contract</td>\n",
       "      <td>Outlander: Season 1, Vol. 1 (Original Televisi...</td>\n",
       "      <td>113</td>\n",
       "      <td>0</td>\n",
       "    </tr>\n",
       "  </tbody>\n",
       "</table>\n",
       "</div>"
      ],
      "text/plain": [
       "       ISRC Country Code Registrant Code  Year of Reference Usage Period  \\\n",
       "0  1.95E+11           19             492               33.0     1/1/2021   \n",
       "1  1.96E+11           19             575               70.0     5/1/2021   \n",
       "2  8.60E+11           85             971               57.0     4/1/2021   \n",
       "3  8.60E+11           85             971               57.0     4/1/2021   \n",
       "4  8.60E+11           85             971               67.0     3/1/2021   \n",
       "\n",
       "  Streaming Platform (DSP)  Streams Recording Artist  \\\n",
       "0                  Spotify    13620           MARINA   \n",
       "1                  Pandora    12160      Chris Webby   \n",
       "2                   Amazon     2451      Parry Gripp   \n",
       "3                   Amazon     2451      Parry Gripp   \n",
       "4                   Amazon     3844    Bear McCreary   \n",
       "\n",
       "              Recording Label                  Recording Title  \\\n",
       "0            Atlantic Records                      Man's World   \n",
       "1                    EightyHD           Quarantine (Freeverse)   \n",
       "2                 Parry Gripp  The Girl at the Videogame Store   \n",
       "3                 Parry Gripp  The Girl at the Videogame Store   \n",
       "4  Madison Gate Records, Inc.            The Marriage Contract   \n",
       "\n",
       "                                       Release Title  \\\n",
       "0                           Man's World (MUNA Remix)   \n",
       "1                             Quarantine (Freeverse)   \n",
       "2               Parry Gripp Mega-Party (2008 - 2012)   \n",
       "3               Parry Gripp Mega-Party (2008 - 2012)   \n",
       "4  Outlander: Season 1, Vol. 1 (Original Televisi...   \n",
       "\n",
       "   Recording Duration (Seconds)  Songwriter's Listed (1 = \"Yes\", 0 = \"No\")  \n",
       "0                           209                                          1  \n",
       "1                           160                                          1  \n",
       "2                           185                                          0  \n",
       "3                           185                                          0  \n",
       "4                           113                                          0  "
      ]
     },
     "execution_count": 6,
     "metadata": {},
     "output_type": "execute_result"
    }
   ],
   "source": [
    "mlc_df.head()"
   ]
  },
  {
   "cell_type": "code",
   "execution_count": 7,
   "id": "c5ae2eda",
   "metadata": {},
   "outputs": [],
   "source": [
    "mlc_df= mlc_df.rename({mlc_df.columns[-1]: 'Songwriters'}, axis=1)"
   ]
  },
  {
   "cell_type": "code",
   "execution_count": 8,
   "id": "e583f80a",
   "metadata": {},
   "outputs": [
    {
     "name": "stdout",
     "output_type": "stream",
     "text": [
      "<class 'pandas.core.frame.DataFrame'>\n",
      "RangeIndex: 100000 entries, 0 to 99999\n",
      "Data columns (total 13 columns):\n",
      " #   Column                        Non-Null Count   Dtype  \n",
      "---  ------                        --------------   -----  \n",
      " 0    ISRC                         98240 non-null   object \n",
      " 1   Country Code                  98303 non-null   object \n",
      " 2   Registrant Code               98303 non-null   object \n",
      " 3   Year of Reference             98239 non-null   float64\n",
      " 4   Usage Period                  91898 non-null   object \n",
      " 5   Streaming Platform (DSP)      96001 non-null   object \n",
      " 6   Streams                       100000 non-null  int64  \n",
      " 7   Recording Artist              100000 non-null  object \n",
      " 8   Recording Label               98992 non-null   object \n",
      " 9   Recording Title               100000 non-null  object \n",
      " 10  Release Title                 99931 non-null   object \n",
      " 11  Recording Duration (Seconds)  100000 non-null  int64  \n",
      " 12  Songwriters                   100000 non-null  int64  \n",
      "dtypes: float64(1), int64(3), object(9)\n",
      "memory usage: 9.9+ MB\n"
     ]
    }
   ],
   "source": [
    "mlc_df.info()"
   ]
  },
  {
   "cell_type": "code",
   "execution_count": 9,
   "id": "655e08e4",
   "metadata": {},
   "outputs": [
    {
     "data": {
      "text/plain": [
       "45839"
      ]
     },
     "execution_count": 9,
     "metadata": {},
     "output_type": "execute_result"
    }
   ],
   "source": [
    "#count missing songwriters\n",
    "sum(mlc_df.Songwriters == 0)"
   ]
  },
  {
   "cell_type": "code",
   "execution_count": 10,
   "id": "2cfa1fff",
   "metadata": {},
   "outputs": [
    {
     "data": {
      "text/plain": [
       "54161"
      ]
     },
     "execution_count": 10,
     "metadata": {},
     "output_type": "execute_result"
    }
   ],
   "source": [
    "#count rows with songwriters\n",
    "sum(mlc_df.Songwriters == 1)"
   ]
  },
  {
   "cell_type": "code",
   "execution_count": 11,
   "id": "a3f83e14",
   "metadata": {},
   "outputs": [
    {
     "name": "stdout",
     "output_type": "stream",
     "text": [
      "False    99451\n",
      "True       549\n",
      "dtype: int64\n"
     ]
    }
   ],
   "source": [
    "#count number of duplicate values\n",
    "print(mlc_df.duplicated().value_counts())"
   ]
  },
  {
   "cell_type": "code",
   "execution_count": 12,
   "id": "4d2998c7",
   "metadata": {},
   "outputs": [],
   "source": [
    "#You can use duplicated() and the negation operator ~ to remove duplicate rows.\n",
    "mlc_df_new = mlc_df[~mlc_df.duplicated()]"
   ]
  },
  {
   "cell_type": "code",
   "execution_count": 13,
   "id": "aaf8bfa3",
   "metadata": {},
   "outputs": [
    {
     "name": "stdout",
     "output_type": "stream",
     "text": [
      "<class 'pandas.core.frame.DataFrame'>\n",
      "Int64Index: 99451 entries, 0 to 99999\n",
      "Data columns (total 13 columns):\n",
      " #   Column                        Non-Null Count  Dtype  \n",
      "---  ------                        --------------  -----  \n",
      " 0    ISRC                         97701 non-null  object \n",
      " 1   Country Code                  97764 non-null  object \n",
      " 2   Registrant Code               97764 non-null  object \n",
      " 3   Year of Reference             97700 non-null  float64\n",
      " 4   Usage Period                  91349 non-null  object \n",
      " 5   Streaming Platform (DSP)      95452 non-null  object \n",
      " 6   Streams                       99451 non-null  int64  \n",
      " 7   Recording Artist              99451 non-null  object \n",
      " 8   Recording Label               98444 non-null  object \n",
      " 9   Recording Title               99451 non-null  object \n",
      " 10  Release Title                 99382 non-null  object \n",
      " 11  Recording Duration (Seconds)  99451 non-null  int64  \n",
      " 12  Songwriters                   99451 non-null  int64  \n",
      "dtypes: float64(1), int64(3), object(9)\n",
      "memory usage: 10.6+ MB\n"
     ]
    }
   ],
   "source": [
    "mlc_df_new.info()"
   ]
  },
  {
   "cell_type": "code",
   "execution_count": 14,
   "id": "8852d80d",
   "metadata": {},
   "outputs": [
    {
     "name": "stdout",
     "output_type": "stream",
     "text": [
      "   Streaming Platform (DSP)       Streams\n",
      "0                    Amazon  10441.229776\n",
      "1                   Anghami    753.956522\n",
      "2                     Apple  72459.358059\n",
      "3                 AudioMack  21802.834545\n",
      "4        Classical Archives     10.000000\n",
      "5                    Deezer   1722.156863\n",
      "6                 Fan Label     22.750000\n",
      "7                       GTL   1249.462439\n",
      "8                 LiveXLive    506.535000\n",
      "9                   Melodyv   6476.306295\n",
      "10             Midwest Tape    840.274510\n",
      "11                 MixCloud    665.250000\n",
      "12                MonkingMe   3549.000000\n",
      "13                  NugsNet    351.333333\n",
      "14                Pacemaker    569.000000\n",
      "15                  Pandora  63548.230534\n",
      "16               PowerMusic    394.250000\n",
      "17                    Qoboz     63.663462\n",
      "18                  Recisio      1.318182\n",
      "19              Smithsonian      9.904762\n",
      "20                    Sonos   1365.304348\n",
      "21               SoundCloud  78629.932547\n",
      "22                  Spotify  79231.969481\n",
      "23                    Tidal  13867.283642\n",
      "24                   Trebel    182.799266\n",
      "25          Ultimate Guitar     16.263158\n",
      "26                Wolfgangs    241.250000\n",
      "27                  YouTube  57509.780852\n",
      "28             iHeart Radio   3029.644979\n"
     ]
    }
   ],
   "source": [
    "#avg number of streams for each platform\n",
    "df_streams_avg = mlc_df_new.groupby([\"Streaming Platform (DSP)\"]).Streams.mean().reset_index()\n",
    "print(df_streams_avg)"
   ]
  },
  {
   "cell_type": "code",
   "execution_count": 15,
   "id": "571db00f",
   "metadata": {},
   "outputs": [
    {
     "name": "stdout",
     "output_type": "stream",
     "text": [
      "   Streaming Platform (DSP)     Streams\n",
      "0                    Amazon   149591499\n",
      "1                   Anghami       34682\n",
      "2                     Apple  1599105573\n",
      "3                 AudioMack    11991559\n",
      "4        Classical Archives          20\n",
      "5                    Deezer       87830\n",
      "6                 Fan Label          91\n",
      "7                       GTL     1280699\n",
      "8                 LiveXLive      101307\n",
      "9                   Melodyv     5349429\n",
      "10             Midwest Tape       85708\n",
      "11                 MixCloud        2661\n",
      "12                MonkingMe        3549\n",
      "13                  NugsNet      110670\n",
      "14                Pacemaker        1707\n",
      "15                  Pandora   873279784\n",
      "16               PowerMusic        3154\n",
      "17                    Qoboz        6621\n",
      "18                  Recisio          29\n",
      "19              Smithsonian         208\n",
      "20                    Sonos       31402\n",
      "21               SoundCloud   166695457\n",
      "22                  Spotify  2541603117\n",
      "23                    Tidal    48743502\n",
      "24                   Trebel      149347\n",
      "25          Ultimate Guitar         309\n",
      "26                Wolfgangs         965\n",
      "27                  YouTube   157979368\n",
      "28             iHeart Radio     2141959\n"
     ]
    }
   ],
   "source": [
    "#total number of streams for each platform\n",
    "df_streams_sum = mlc_df_new.groupby([\"Streaming Platform (DSP)\"]).Streams.sum().reset_index()\n",
    "print(df_streams_sum)"
   ]
  },
  {
   "cell_type": "code",
   "execution_count": 19,
   "id": "292ce15f",
   "metadata": {},
   "outputs": [],
   "source": [
    "#command to access a different notebook\n",
    "%run genres.ipynb\n"
   ]
  },
  {
   "cell_type": "code",
   "execution_count": null,
   "id": "e402eed3",
   "metadata": {},
   "outputs": [],
   "source": []
  }
 ],
 "metadata": {
  "kernelspec": {
   "display_name": "Python 3 (ipykernel)",
   "language": "python",
   "name": "python3"
  },
  "language_info": {
   "codemirror_mode": {
    "name": "ipython",
    "version": 3
   },
   "file_extension": ".py",
   "mimetype": "text/x-python",
   "name": "python",
   "nbconvert_exporter": "python",
   "pygments_lexer": "ipython3",
   "version": "3.9.7"
  }
 },
 "nbformat": 4,
 "nbformat_minor": 5
}
